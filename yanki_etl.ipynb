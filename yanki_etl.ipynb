{
 "cells": [
  {
   "cell_type": "markdown",
   "id": "fd830f89",
   "metadata": {},
   "source": [
    "import necessary libraries"
   ]
  },
  {
   "cell_type": "code",
   "execution_count": 2,
   "id": "2839281e",
   "metadata": {},
   "outputs": [],
   "source": [
    "import numpy as np\n",
    "import pandas as pd"
   ]
  },
  {
   "cell_type": "markdown",
   "id": "c6a543ed",
   "metadata": {},
   "source": [
    "Extraction Layer"
   ]
  },
  {
   "cell_type": "code",
   "execution_count": 6,
   "id": "4a981f5e",
   "metadata": {},
   "outputs": [],
   "source": [
    "yankii_df = pd.read_csv(r'dataset\\rawdata\\yanki_ecommerce.csv')"
   ]
  },
  {
   "cell_type": "code",
   "execution_count": 9,
   "id": "9d4bd3ee",
   "metadata": {},
   "outputs": [
    {
     "name": "stdout",
     "output_type": "stream",
     "text": [
      "<class 'pandas.core.frame.DataFrame'>\n",
      "RangeIndex: 1020 entries, 0 to 1019\n",
      "Data columns (total 20 columns):\n",
      " #   Column              Non-Null Count  Dtype  \n",
      "---  ------              --------------  -----  \n",
      " 0   Order_ID            1000 non-null   object \n",
      " 1   Customer_ID         1000 non-null   object \n",
      " 2   Customer_Name       1000 non-null   object \n",
      " 3   Product_ID          1020 non-null   object \n",
      " 4   Product_Name        1020 non-null   object \n",
      " 5   Brand               1020 non-null   object \n",
      " 6   Category            1020 non-null   object \n",
      " 7   Price               1020 non-null   float64\n",
      " 8   Quantity            1020 non-null   int64  \n",
      " 9   Total_Price         1020 non-null   float64\n",
      " 10  Order_Date          1020 non-null   object \n",
      " 11  Shipping_Address    1020 non-null   object \n",
      " 12  City                1020 non-null   object \n",
      " 13  State               1019 non-null   object \n",
      " 14  Country             1020 non-null   object \n",
      " 15  Postal_Code         1020 non-null   int64  \n",
      " 16  Email               1020 non-null   object \n",
      " 17  Phone_Number        1020 non-null   object \n",
      " 18  Payment_Method      1020 non-null   object \n",
      " 19  Transaction_Status  1020 non-null   object \n",
      "dtypes: float64(2), int64(2), object(16)\n",
      "memory usage: 95.7+ KB\n"
     ]
    }
   ],
   "source": [
    "yankii_df.info()"
   ]
  },
  {
   "cell_type": "code",
   "execution_count": 10,
   "id": "85f190e2",
   "metadata": {},
   "outputs": [
    {
     "data": {
      "text/plain": [
       "Index(['Order_ID', 'Customer_ID', 'Customer_Name', 'Product_ID',\n",
       "       'Product_Name', 'Brand', 'Category', 'Price', 'Quantity', 'Total_Price',\n",
       "       'Order_Date', 'Shipping_Address', 'City', 'State', 'Country',\n",
       "       'Postal_Code', 'Email', 'Phone_Number', 'Payment_Method',\n",
       "       'Transaction_Status'],\n",
       "      dtype='object')"
      ]
     },
     "execution_count": 10,
     "metadata": {},
     "output_type": "execute_result"
    }
   ],
   "source": [
    "yankii_df.columns"
   ]
  },
  {
   "cell_type": "markdown",
   "id": "92207de6",
   "metadata": {},
   "source": [
    "### cleaning and transfromation\n"
   ]
  },
  {
   "cell_type": "code",
   "execution_count": 11,
   "id": "77148cf6",
   "metadata": {},
   "outputs": [],
   "source": [
    "yankii_df.dropna(subset=['Order_ID', 'Customer_ID'], inplace=True)"
   ]
  },
  {
   "cell_type": "code",
   "execution_count": 12,
   "id": "41451571",
   "metadata": {},
   "outputs": [
    {
     "name": "stdout",
     "output_type": "stream",
     "text": [
      "<class 'pandas.core.frame.DataFrame'>\n",
      "Int64Index: 1000 entries, 2 to 1019\n",
      "Data columns (total 20 columns):\n",
      " #   Column              Non-Null Count  Dtype  \n",
      "---  ------              --------------  -----  \n",
      " 0   Order_ID            1000 non-null   object \n",
      " 1   Customer_ID         1000 non-null   object \n",
      " 2   Customer_Name       1000 non-null   object \n",
      " 3   Product_ID          1000 non-null   object \n",
      " 4   Product_Name        1000 non-null   object \n",
      " 5   Brand               1000 non-null   object \n",
      " 6   Category            1000 non-null   object \n",
      " 7   Price               1000 non-null   float64\n",
      " 8   Quantity            1000 non-null   int64  \n",
      " 9   Total_Price         1000 non-null   float64\n",
      " 10  Order_Date          1000 non-null   object \n",
      " 11  Shipping_Address    1000 non-null   object \n",
      " 12  City                1000 non-null   object \n",
      " 13  State               999 non-null    object \n",
      " 14  Country             1000 non-null   object \n",
      " 15  Postal_Code         1000 non-null   int64  \n",
      " 16  Email               1000 non-null   object \n",
      " 17  Phone_Number        1000 non-null   object \n",
      " 18  Payment_Method      1000 non-null   object \n",
      " 19  Transaction_Status  1000 non-null   object \n",
      "dtypes: float64(2), int64(2), object(16)\n",
      "memory usage: 101.6+ KB\n"
     ]
    }
   ],
   "source": [
    "yankii_df.info()"
   ]
  },
  {
   "cell_type": "markdown",
   "id": "f371f89f",
   "metadata": {},
   "source": [
    "convert order date to datetime object"
   ]
  },
  {
   "cell_type": "code",
   "execution_count": 13,
   "id": "8f3387b0",
   "metadata": {},
   "outputs": [],
   "source": [
    "yankii_df['Order_Date'] = pd.to_datetime(yankii_df['Order_Date'])"
   ]
  },
  {
   "cell_type": "code",
   "execution_count": 15,
   "id": "96c6bebd",
   "metadata": {},
   "outputs": [
    {
     "name": "stdout",
     "output_type": "stream",
     "text": [
      "<class 'pandas.core.frame.DataFrame'>\n",
      "Int64Index: 1000 entries, 2 to 1019\n",
      "Data columns (total 20 columns):\n",
      " #   Column              Non-Null Count  Dtype         \n",
      "---  ------              --------------  -----         \n",
      " 0   Order_ID            1000 non-null   object        \n",
      " 1   Customer_ID         1000 non-null   object        \n",
      " 2   Customer_Name       1000 non-null   object        \n",
      " 3   Product_ID          1000 non-null   object        \n",
      " 4   Product_Name        1000 non-null   object        \n",
      " 5   Brand               1000 non-null   object        \n",
      " 6   Category            1000 non-null   object        \n",
      " 7   Price               1000 non-null   float64       \n",
      " 8   Quantity            1000 non-null   int64         \n",
      " 9   Total_Price         1000 non-null   float64       \n",
      " 10  Order_Date          1000 non-null   datetime64[ns]\n",
      " 11  Shipping_Address    1000 non-null   object        \n",
      " 12  City                1000 non-null   object        \n",
      " 13  State               999 non-null    object        \n",
      " 14  Country             1000 non-null   object        \n",
      " 15  Postal_Code         1000 non-null   int64         \n",
      " 16  Email               1000 non-null   object        \n",
      " 17  Phone_Number        1000 non-null   object        \n",
      " 18  Payment_Method      1000 non-null   object        \n",
      " 19  Transaction_Status  1000 non-null   object        \n",
      "dtypes: datetime64[ns](1), float64(2), int64(2), object(15)\n",
      "memory usage: 105.5+ KB\n"
     ]
    }
   ],
   "source": [
    "yankii_df.info()"
   ]
  },
  {
   "cell_type": "code",
   "execution_count": 22,
   "id": "be4807f3",
   "metadata": {},
   "outputs": [
    {
     "data": {
      "text/html": [
       "<div>\n",
       "<style scoped>\n",
       "    .dataframe tbody tr th:only-of-type {\n",
       "        vertical-align: middle;\n",
       "    }\n",
       "\n",
       "    .dataframe tbody tr th {\n",
       "        vertical-align: top;\n",
       "    }\n",
       "\n",
       "    .dataframe thead th {\n",
       "        text-align: right;\n",
       "    }\n",
       "</style>\n",
       "<table border=\"1\" class=\"dataframe\">\n",
       "  <thead>\n",
       "    <tr style=\"text-align: right;\">\n",
       "      <th></th>\n",
       "      <th>Customer_ID</th>\n",
       "      <th>Customer_Name</th>\n",
       "      <th>Email</th>\n",
       "      <th>Phone_Number</th>\n",
       "    </tr>\n",
       "  </thead>\n",
       "  <tbody>\n",
       "    <tr>\n",
       "      <th>0</th>\n",
       "      <td>e0d6cb3c-c4b0-4cfe-8225-b65d094d2424</td>\n",
       "      <td>Dominic Buchanan</td>\n",
       "      <td>margaret97@example.com</td>\n",
       "      <td>259.603.6134</td>\n",
       "    </tr>\n",
       "    <tr>\n",
       "      <th>1</th>\n",
       "      <td>fa3ca35a-5540-404b-a7eb-9001cdcbd840</td>\n",
       "      <td>Daniel Allen</td>\n",
       "      <td>angela55@example.com</td>\n",
       "      <td>+1-869-659-4272x982</td>\n",
       "    </tr>\n",
       "    <tr>\n",
       "      <th>2</th>\n",
       "      <td>7ad4de53-e6d7-4cd3-99b8-13fb70fe7a34</td>\n",
       "      <td>Daniel Schmidt</td>\n",
       "      <td>wayne59@example.org</td>\n",
       "      <td>292.840.0975x724</td>\n",
       "    </tr>\n",
       "    <tr>\n",
       "      <th>3</th>\n",
       "      <td>4b9b409c-19f2-41c0-bc7c-6556e0647ebb</td>\n",
       "      <td>John Gonzalez</td>\n",
       "      <td>qsherman@example.com</td>\n",
       "      <td>+1-643-561-3912x262</td>\n",
       "    </tr>\n",
       "    <tr>\n",
       "      <th>4</th>\n",
       "      <td>81b513ad-5c02-48cf-bff0-39e1440c4d22</td>\n",
       "      <td>Amber Benitez</td>\n",
       "      <td>derek85@example.com</td>\n",
       "      <td>3424148376</td>\n",
       "    </tr>\n",
       "  </tbody>\n",
       "</table>\n",
       "</div>"
      ],
      "text/plain": [
       "                            Customer_ID     Customer_Name  \\\n",
       "0  e0d6cb3c-c4b0-4cfe-8225-b65d094d2424  Dominic Buchanan   \n",
       "1  fa3ca35a-5540-404b-a7eb-9001cdcbd840      Daniel Allen   \n",
       "2  7ad4de53-e6d7-4cd3-99b8-13fb70fe7a34    Daniel Schmidt   \n",
       "3  4b9b409c-19f2-41c0-bc7c-6556e0647ebb     John Gonzalez   \n",
       "4  81b513ad-5c02-48cf-bff0-39e1440c4d22     Amber Benitez   \n",
       "\n",
       "                    Email         Phone_Number  \n",
       "0  margaret97@example.com         259.603.6134  \n",
       "1    angela55@example.com  +1-869-659-4272x982  \n",
       "2     wayne59@example.org     292.840.0975x724  \n",
       "3    qsherman@example.com  +1-643-561-3912x262  \n",
       "4     derek85@example.com           3424148376  "
      ]
     },
     "execution_count": 22,
     "metadata": {},
     "output_type": "execute_result"
    }
   ],
   "source": [
    "# customer table\n",
    "customer_df = yankii_df[[ 'Customer_ID', 'Customer_Name','Email', 'Phone_Number']].copy().drop_duplicates().reset_index(drop=True)\n",
    "customer_df.head()"
   ]
  },
  {
   "cell_type": "code",
   "execution_count": 24,
   "id": "3c5ad247",
   "metadata": {},
   "outputs": [
    {
     "data": {
      "text/html": [
       "<div>\n",
       "<style scoped>\n",
       "    .dataframe tbody tr th:only-of-type {\n",
       "        vertical-align: middle;\n",
       "    }\n",
       "\n",
       "    .dataframe tbody tr th {\n",
       "        vertical-align: top;\n",
       "    }\n",
       "\n",
       "    .dataframe thead th {\n",
       "        text-align: right;\n",
       "    }\n",
       "</style>\n",
       "<table border=\"1\" class=\"dataframe\">\n",
       "  <thead>\n",
       "    <tr style=\"text-align: right;\">\n",
       "      <th></th>\n",
       "      <th>Product_ID</th>\n",
       "      <th>Product_Name</th>\n",
       "      <th>Brand</th>\n",
       "      <th>Category</th>\n",
       "      <th>Price</th>\n",
       "    </tr>\n",
       "  </thead>\n",
       "  <tbody>\n",
       "    <tr>\n",
       "      <th>0</th>\n",
       "      <td>2ef6e8fa-6a36-4515-b1c2-a0a700abf386</td>\n",
       "      <td>despite</td>\n",
       "      <td>Lawson, Stone and Campos</td>\n",
       "      <td>perfume oil</td>\n",
       "      <td>250.57</td>\n",
       "    </tr>\n",
       "    <tr>\n",
       "      <th>1</th>\n",
       "      <td>3ba38e01-f8e7-4af2-9246-87ef0961d4f5</td>\n",
       "      <td>sea</td>\n",
       "      <td>Washington Group</td>\n",
       "      <td>perfume oil</td>\n",
       "      <td>179.81</td>\n",
       "    </tr>\n",
       "    <tr>\n",
       "      <th>2</th>\n",
       "      <td>a58c53bd-a34b-4541-b926-bec9eb84cac2</td>\n",
       "      <td>suddenly</td>\n",
       "      <td>Rodgers Ltd</td>\n",
       "      <td>perfume oil</td>\n",
       "      <td>600.55</td>\n",
       "    </tr>\n",
       "    <tr>\n",
       "      <th>3</th>\n",
       "      <td>e6021be5-90be-4199-b6c6-82542fb2973c</td>\n",
       "      <td>site</td>\n",
       "      <td>Wilson, Scott and Johnson</td>\n",
       "      <td>perfume oil</td>\n",
       "      <td>414.36</td>\n",
       "    </tr>\n",
       "    <tr>\n",
       "      <th>4</th>\n",
       "      <td>60127671-ab32-4fb5-bfeb-1a7782ad835e</td>\n",
       "      <td>act</td>\n",
       "      <td>Riddle, Alvarez and Robinson</td>\n",
       "      <td>perfume</td>\n",
       "      <td>704.05</td>\n",
       "    </tr>\n",
       "  </tbody>\n",
       "</table>\n",
       "</div>"
      ],
      "text/plain": [
       "                             Product_ID Product_Name  \\\n",
       "0  2ef6e8fa-6a36-4515-b1c2-a0a700abf386      despite   \n",
       "1  3ba38e01-f8e7-4af2-9246-87ef0961d4f5          sea   \n",
       "2  a58c53bd-a34b-4541-b926-bec9eb84cac2     suddenly   \n",
       "3  e6021be5-90be-4199-b6c6-82542fb2973c         site   \n",
       "4  60127671-ab32-4fb5-bfeb-1a7782ad835e          act   \n",
       "\n",
       "                          Brand     Category   Price  \n",
       "0      Lawson, Stone and Campos  perfume oil  250.57  \n",
       "1              Washington Group  perfume oil  179.81  \n",
       "2                   Rodgers Ltd  perfume oil  600.55  \n",
       "3     Wilson, Scott and Johnson  perfume oil  414.36  \n",
       "4  Riddle, Alvarez and Robinson      perfume  704.05  "
      ]
     },
     "execution_count": 24,
     "metadata": {},
     "output_type": "execute_result"
    }
   ],
   "source": [
    "#product table\n",
    "product_df = yankii_df[['Product_ID','Product_Name', 'Brand', 'Category', 'Price']].copy().drop_duplicates().reset_index(drop=True)\n",
    "product_df.head()"
   ]
  },
  {
   "cell_type": "code",
   "execution_count": 27,
   "id": "4dac5dca",
   "metadata": {},
   "outputs": [
    {
     "data": {
      "text/html": [
       "<div>\n",
       "<style scoped>\n",
       "    .dataframe tbody tr th:only-of-type {\n",
       "        vertical-align: middle;\n",
       "    }\n",
       "\n",
       "    .dataframe tbody tr th {\n",
       "        vertical-align: top;\n",
       "    }\n",
       "\n",
       "    .dataframe thead th {\n",
       "        text-align: right;\n",
       "    }\n",
       "</style>\n",
       "<table border=\"1\" class=\"dataframe\">\n",
       "  <thead>\n",
       "    <tr style=\"text-align: right;\">\n",
       "      <th></th>\n",
       "      <th>Customer_ID</th>\n",
       "      <th>Shipping_Address</th>\n",
       "      <th>City</th>\n",
       "      <th>State</th>\n",
       "      <th>Country</th>\n",
       "      <th>Postal_Code</th>\n",
       "    </tr>\n",
       "    <tr>\n",
       "      <th>shipping_ID</th>\n",
       "      <th></th>\n",
       "      <th></th>\n",
       "      <th></th>\n",
       "      <th></th>\n",
       "      <th></th>\n",
       "      <th></th>\n",
       "    </tr>\n",
       "  </thead>\n",
       "  <tbody>\n",
       "    <tr>\n",
       "      <th>0</th>\n",
       "      <td>e0d6cb3c-c4b0-4cfe-8225-b65d094d2424</td>\n",
       "      <td>PSC 2224, Box 2284\\nAPO AP 65880</td>\n",
       "      <td>Jordanborough</td>\n",
       "      <td>Arkansas</td>\n",
       "      <td>Kuwait</td>\n",
       "      <td>27879</td>\n",
       "    </tr>\n",
       "    <tr>\n",
       "      <th>1</th>\n",
       "      <td>fa3ca35a-5540-404b-a7eb-9001cdcbd840</td>\n",
       "      <td>83909 Johnson Mall\\nTranberg, MS 99017</td>\n",
       "      <td>Lake Ginatown</td>\n",
       "      <td>Georgia</td>\n",
       "      <td>Saint Vincent and the Grenadines</td>\n",
       "      <td>39336</td>\n",
       "    </tr>\n",
       "    <tr>\n",
       "      <th>2</th>\n",
       "      <td>7ad4de53-e6d7-4cd3-99b8-13fb70fe7a34</td>\n",
       "      <td>82101 Johnson Flat\\nWest Ryan, MS 29075</td>\n",
       "      <td>Sarahville</td>\n",
       "      <td>Ohio</td>\n",
       "      <td>France</td>\n",
       "      <td>30845</td>\n",
       "    </tr>\n",
       "    <tr>\n",
       "      <th>3</th>\n",
       "      <td>4b9b409c-19f2-41c0-bc7c-6556e0647ebb</td>\n",
       "      <td>4542 Gary Lane\\nSouth Alexander, VI 27671</td>\n",
       "      <td>Lake Michelle</td>\n",
       "      <td>Arkansas</td>\n",
       "      <td>Sao Tome and Principe</td>\n",
       "      <td>30955</td>\n",
       "    </tr>\n",
       "    <tr>\n",
       "      <th>4</th>\n",
       "      <td>81b513ad-5c02-48cf-bff0-39e1440c4d22</td>\n",
       "      <td>6794 Caroline Crescent\\nEast Karlside, GU 81379</td>\n",
       "      <td>Olsenville</td>\n",
       "      <td>Mississippi</td>\n",
       "      <td>Croatia</td>\n",
       "      <td>45429</td>\n",
       "    </tr>\n",
       "  </tbody>\n",
       "</table>\n",
       "</div>"
      ],
      "text/plain": [
       "                                      Customer_ID  \\\n",
       "shipping_ID                                         \n",
       "0            e0d6cb3c-c4b0-4cfe-8225-b65d094d2424   \n",
       "1            fa3ca35a-5540-404b-a7eb-9001cdcbd840   \n",
       "2            7ad4de53-e6d7-4cd3-99b8-13fb70fe7a34   \n",
       "3            4b9b409c-19f2-41c0-bc7c-6556e0647ebb   \n",
       "4            81b513ad-5c02-48cf-bff0-39e1440c4d22   \n",
       "\n",
       "                                            Shipping_Address           City  \\\n",
       "shipping_ID                                                                   \n",
       "0                           PSC 2224, Box 2284\\nAPO AP 65880  Jordanborough   \n",
       "1                     83909 Johnson Mall\\nTranberg, MS 99017  Lake Ginatown   \n",
       "2                    82101 Johnson Flat\\nWest Ryan, MS 29075     Sarahville   \n",
       "3                  4542 Gary Lane\\nSouth Alexander, VI 27671  Lake Michelle   \n",
       "4            6794 Caroline Crescent\\nEast Karlside, GU 81379     Olsenville   \n",
       "\n",
       "                   State                           Country  Postal_Code  \n",
       "shipping_ID                                                              \n",
       "0               Arkansas                            Kuwait        27879  \n",
       "1                Georgia  Saint Vincent and the Grenadines        39336  \n",
       "2                   Ohio                            France        30845  \n",
       "3               Arkansas             Sao Tome and Principe        30955  \n",
       "4            Mississippi                           Croatia        45429  "
      ]
     },
     "execution_count": 27,
     "metadata": {},
     "output_type": "execute_result"
    }
   ],
   "source": [
    "#shipping Address\n",
    "shipping_address_df = yankii_df[['Customer_ID','Shipping_Address', 'City', 'State', 'Country',\n",
    "       'Postal_Code']].copy().drop_duplicates().reset_index(drop=True)\n",
    "shipping_address_df.index.name = 'shipping_ID'\n",
    "shipping_address_df = shipping_address_df.reindex()\n",
    "shipping_address_df.head()"
   ]
  },
  {
   "cell_type": "code",
   "execution_count": 30,
   "id": "eab86ba3",
   "metadata": {},
   "outputs": [
    {
     "data": {
      "text/html": [
       "<div>\n",
       "<style scoped>\n",
       "    .dataframe tbody tr th:only-of-type {\n",
       "        vertical-align: middle;\n",
       "    }\n",
       "\n",
       "    .dataframe tbody tr th {\n",
       "        vertical-align: top;\n",
       "    }\n",
       "\n",
       "    .dataframe thead th {\n",
       "        text-align: right;\n",
       "    }\n",
       "</style>\n",
       "<table border=\"1\" class=\"dataframe\">\n",
       "  <thead>\n",
       "    <tr style=\"text-align: right;\">\n",
       "      <th></th>\n",
       "      <th>Order_ID</th>\n",
       "      <th>Customer_ID</th>\n",
       "      <th>Product_ID</th>\n",
       "      <th>Quantity</th>\n",
       "      <th>Total_Price</th>\n",
       "      <th>Order_Date</th>\n",
       "    </tr>\n",
       "  </thead>\n",
       "  <tbody>\n",
       "    <tr>\n",
       "      <th>0</th>\n",
       "      <td>e32af09a-b6ab-497e-af3a-331e4d4ed6e7</td>\n",
       "      <td>e0d6cb3c-c4b0-4cfe-8225-b65d094d2424</td>\n",
       "      <td>2ef6e8fa-6a36-4515-b1c2-a0a700abf386</td>\n",
       "      <td>2</td>\n",
       "      <td>501.14</td>\n",
       "      <td>2020-06-03 06:49:00</td>\n",
       "    </tr>\n",
       "    <tr>\n",
       "      <th>1</th>\n",
       "      <td>86eb8859-14ab-4d4e-9267-c5826f4e0c8e</td>\n",
       "      <td>fa3ca35a-5540-404b-a7eb-9001cdcbd840</td>\n",
       "      <td>3ba38e01-f8e7-4af2-9246-87ef0961d4f5</td>\n",
       "      <td>6</td>\n",
       "      <td>1078.86</td>\n",
       "      <td>2020-07-31 07:09:00</td>\n",
       "    </tr>\n",
       "    <tr>\n",
       "      <th>2</th>\n",
       "      <td>7379b560-8897-4623-92a2-523ddcdc43a1</td>\n",
       "      <td>7ad4de53-e6d7-4cd3-99b8-13fb70fe7a34</td>\n",
       "      <td>a58c53bd-a34b-4541-b926-bec9eb84cac2</td>\n",
       "      <td>7</td>\n",
       "      <td>4203.85</td>\n",
       "      <td>2021-11-05 04:33:00</td>\n",
       "    </tr>\n",
       "    <tr>\n",
       "      <th>3</th>\n",
       "      <td>30c57f86-2fed-43c0-a399-654c2c3bb18d</td>\n",
       "      <td>4b9b409c-19f2-41c0-bc7c-6556e0647ebb</td>\n",
       "      <td>e6021be5-90be-4199-b6c6-82542fb2973c</td>\n",
       "      <td>9</td>\n",
       "      <td>3729.24</td>\n",
       "      <td>2023-12-09 01:47:00</td>\n",
       "    </tr>\n",
       "    <tr>\n",
       "      <th>4</th>\n",
       "      <td>41c29d81-9622-43c1-b537-7cdb320d3e6a</td>\n",
       "      <td>81b513ad-5c02-48cf-bff0-39e1440c4d22</td>\n",
       "      <td>60127671-ab32-4fb5-bfeb-1a7782ad835e</td>\n",
       "      <td>9</td>\n",
       "      <td>6336.45</td>\n",
       "      <td>2021-08-20 18:02:00</td>\n",
       "    </tr>\n",
       "  </tbody>\n",
       "</table>\n",
       "</div>"
      ],
      "text/plain": [
       "                               Order_ID                           Customer_ID  \\\n",
       "0  e32af09a-b6ab-497e-af3a-331e4d4ed6e7  e0d6cb3c-c4b0-4cfe-8225-b65d094d2424   \n",
       "1  86eb8859-14ab-4d4e-9267-c5826f4e0c8e  fa3ca35a-5540-404b-a7eb-9001cdcbd840   \n",
       "2  7379b560-8897-4623-92a2-523ddcdc43a1  7ad4de53-e6d7-4cd3-99b8-13fb70fe7a34   \n",
       "3  30c57f86-2fed-43c0-a399-654c2c3bb18d  4b9b409c-19f2-41c0-bc7c-6556e0647ebb   \n",
       "4  41c29d81-9622-43c1-b537-7cdb320d3e6a  81b513ad-5c02-48cf-bff0-39e1440c4d22   \n",
       "\n",
       "                             Product_ID  Quantity  Total_Price  \\\n",
       "0  2ef6e8fa-6a36-4515-b1c2-a0a700abf386         2       501.14   \n",
       "1  3ba38e01-f8e7-4af2-9246-87ef0961d4f5         6      1078.86   \n",
       "2  a58c53bd-a34b-4541-b926-bec9eb84cac2         7      4203.85   \n",
       "3  e6021be5-90be-4199-b6c6-82542fb2973c         9      3729.24   \n",
       "4  60127671-ab32-4fb5-bfeb-1a7782ad835e         9      6336.45   \n",
       "\n",
       "           Order_Date  \n",
       "0 2020-06-03 06:49:00  \n",
       "1 2020-07-31 07:09:00  \n",
       "2 2021-11-05 04:33:00  \n",
       "3 2023-12-09 01:47:00  \n",
       "4 2021-08-20 18:02:00  "
      ]
     },
     "execution_count": 30,
     "metadata": {},
     "output_type": "execute_result"
    }
   ],
   "source": [
    "# Order table \n",
    "order_df = yankii_df[['Order_ID', 'Customer_ID', 'Product_ID', 'Quantity','Total_Price','Order_Date']].copy().drop_duplicates().reset_index(drop=True)\n",
    "order_df.head()"
   ]
  },
  {
   "cell_type": "code",
   "execution_count": 31,
   "id": "c257895b",
   "metadata": {},
   "outputs": [
    {
     "data": {
      "text/html": [
       "<div>\n",
       "<style scoped>\n",
       "    .dataframe tbody tr th:only-of-type {\n",
       "        vertical-align: middle;\n",
       "    }\n",
       "\n",
       "    .dataframe tbody tr th {\n",
       "        vertical-align: top;\n",
       "    }\n",
       "\n",
       "    .dataframe thead th {\n",
       "        text-align: right;\n",
       "    }\n",
       "</style>\n",
       "<table border=\"1\" class=\"dataframe\">\n",
       "  <thead>\n",
       "    <tr style=\"text-align: right;\">\n",
       "      <th></th>\n",
       "      <th>Order_ID</th>\n",
       "      <th>Payment_Method</th>\n",
       "      <th>Transaction_Status</th>\n",
       "    </tr>\n",
       "  </thead>\n",
       "  <tbody>\n",
       "    <tr>\n",
       "      <th>0</th>\n",
       "      <td>e32af09a-b6ab-497e-af3a-331e4d4ed6e7</td>\n",
       "      <td>Debit Card</td>\n",
       "      <td>completed</td>\n",
       "    </tr>\n",
       "    <tr>\n",
       "      <th>1</th>\n",
       "      <td>86eb8859-14ab-4d4e-9267-c5826f4e0c8e</td>\n",
       "      <td>Credit Card</td>\n",
       "      <td>completed</td>\n",
       "    </tr>\n",
       "    <tr>\n",
       "      <th>2</th>\n",
       "      <td>7379b560-8897-4623-92a2-523ddcdc43a1</td>\n",
       "      <td>PayPal</td>\n",
       "      <td>pending</td>\n",
       "    </tr>\n",
       "    <tr>\n",
       "      <th>3</th>\n",
       "      <td>30c57f86-2fed-43c0-a399-654c2c3bb18d</td>\n",
       "      <td>PayPal</td>\n",
       "      <td>completed</td>\n",
       "    </tr>\n",
       "    <tr>\n",
       "      <th>4</th>\n",
       "      <td>41c29d81-9622-43c1-b537-7cdb320d3e6a</td>\n",
       "      <td>PayPal</td>\n",
       "      <td>pending</td>\n",
       "    </tr>\n",
       "  </tbody>\n",
       "</table>\n",
       "</div>"
      ],
      "text/plain": [
       "                               Order_ID Payment_Method Transaction_Status\n",
       "0  e32af09a-b6ab-497e-af3a-331e4d4ed6e7     Debit Card          completed\n",
       "1  86eb8859-14ab-4d4e-9267-c5826f4e0c8e    Credit Card          completed\n",
       "2  7379b560-8897-4623-92a2-523ddcdc43a1         PayPal            pending\n",
       "3  30c57f86-2fed-43c0-a399-654c2c3bb18d         PayPal          completed\n",
       "4  41c29d81-9622-43c1-b537-7cdb320d3e6a         PayPal            pending"
      ]
     },
     "execution_count": 31,
     "metadata": {},
     "output_type": "execute_result"
    }
   ],
   "source": [
    "#payment_method_df \n",
    "payment_method_df = yankii_df[['Order_ID','Payment_Method',\n",
    "       'Transaction_Status']].copy().drop_duplicates().reset_index(drop=True)\n",
    "payment_method_df.head()"
   ]
  },
  {
   "cell_type": "code",
   "execution_count": 32,
   "id": "c67166f1",
   "metadata": {},
   "outputs": [],
   "source": [
    "# save table to csv\n",
    "customer_df.to_csv(r'dataset/cleandata/customers.csv',index=False)\n",
    "product_df.to_csv(r'dataset/cleandata/products.csv',index=False)\n",
    "order_df.to_csv(r'dataset/cleandata/orders.csv',index=False)\n",
    "shipping_address_df.to_csv(r'dataset/cleandata/shipping_address.csv',index=False)\n",
    "payment_method_df.to_csv(r'dataset/cleandata/payment.csv',index=False)"
   ]
  },
  {
   "cell_type": "code",
   "execution_count": null,
   "id": "42788533",
   "metadata": {},
   "outputs": [
    {
     "data": {
      "text/plain": [
       "Index(['Order_ID', 'Customer_ID', 'Customer_Name', 'Product_ID',\n",
       "       'Product_Name', 'Brand', 'Category', 'Price', 'Quantity', 'Total_Price',\n",
       "       'Order_Date', 'Shipping_Address', 'City', 'State', 'Country',\n",
       "       'Postal_Code', 'Email', 'Phone_Number', 'Payment_Method',\n",
       "       'Transaction_Status'],\n",
       "      dtype='object')"
      ]
     },
     "execution_count": 16,
     "metadata": {},
     "output_type": "execute_result"
    }
   ],
   "source": [
    "yankii_df.columns\n"
   ]
  }
 ],
 "metadata": {
  "kernelspec": {
   "display_name": "Python 3",
   "language": "python",
   "name": "python3"
  },
  "language_info": {
   "codemirror_mode": {
    "name": "ipython",
    "version": 3
   },
   "file_extension": ".py",
   "mimetype": "text/x-python",
   "name": "python",
   "nbconvert_exporter": "python",
   "pygments_lexer": "ipython3",
   "version": "3.6.5"
  }
 },
 "nbformat": 4,
 "nbformat_minor": 5
}
